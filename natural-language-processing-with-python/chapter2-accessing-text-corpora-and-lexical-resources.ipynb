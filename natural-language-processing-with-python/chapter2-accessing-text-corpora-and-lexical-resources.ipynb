{
 "cells": [
  {
   "cell_type": "markdown",
   "metadata": {},
   "source": [
    "# 2. Accessing Text Corpora and Lexical Resources #\n",
    "## 1 Accessing Text Corpora ##\n",
    "+  A text corpus is a large body of text\n",
    "\n",
    "### 1.1 Gutenberg Corpus ###\n",
    "+ [Project Gutenberg](http://www.gutenberg.org/) is an electronic text archive, which contains some 25,000 free electronic books."
   ]
  },
  {
   "cell_type": "code",
   "execution_count": 43,
   "metadata": {
    "collapsed": false
   },
   "outputs": [
    {
     "name": "stdout",
     "output_type": "stream",
     "text": [
      "gutenberg fileids\n",
      ":['austen-emma.txt', 'austen-persuasion.txt', 'austen-sense.txt', 'bible-kjv.txt', 'blake-poems.txt', 'bryant-stories.txt', 'burgess-busterbrown.txt', 'carroll-alice.txt', 'chesterton-ball.txt', 'chesterton-brown.txt', 'chesterton-thursday.txt', 'edgeworth-parents.txt', 'melville-moby_dick.txt', 'milton-paradise.txt', 'shakespeare-caesar.txt', 'shakespeare-hamlet.txt', 'shakespeare-macbeth.txt', 'whitman-leaves.txt']\n",
      "\n",
      "emma length:\n",
      "192427\n",
      "\n",
      "Displaying 1 of 1 matches:\n",
      " that Emma could not but feel some surprise , and a little displeasure , on he\n",
      "\n",
      ":average word length, average sentence length, lexical diversity, fileid\n",
      "5 25 26 austen-emma.txt\n",
      "5 26 17 austen-persuasion.txt\n",
      "5 28 22 austen-sense.txt\n",
      "4 34 79 bible-kjv.txt\n",
      "5 19 5 blake-poems.txt\n",
      "4 19 14 bryant-stories.txt\n",
      "4 18 12 burgess-busterbrown.txt\n",
      "4 20 13 carroll-alice.txt\n",
      "5 20 12 chesterton-ball.txt\n",
      "5 23 11 chesterton-brown.txt\n",
      "5 18 11 chesterton-thursday.txt\n",
      "4 21 25 edgeworth-parents.txt\n",
      "5 26 15 melville-moby_dick.txt\n",
      "5 52 11 milton-paradise.txt\n",
      "4 12 9 shakespeare-caesar.txt\n",
      "4 12 8 shakespeare-hamlet.txt\n",
      "4 12 7 shakespeare-macbeth.txt\n",
      "5 36 12 whitman-leaves.txt\n"
     ]
    }
   ],
   "source": [
    "%matplotlib inline\n",
    "\n",
    "import nltk\n",
    "from nltk.corpus import gutenberg as gb\n",
    "\n",
    "print(\"gutenberg fileids\\n:{0}\\n\".format(gb.fileids()))\n",
    "emma=gb.words(\"austen-emma.txt\")\n",
    "print(\"emma length:\\n{0}\\n\".format(len(emma)))\n",
    "\n",
    "## for concordance, we need to convert the words \n",
    "## to Text contrary to chapter 1\n",
    "emma_text=nltk.Text(emma)\n",
    "emma_text.concordance(\"surprise\")\n",
    "\n",
    "## This program displays three statistics for each text: average word length, average sentence length, \n",
    "## and the number of times each vocabulary item appears in the text on average (our lexical diversity score). \n",
    "## Observe that average word length appears to be a general property of English, since it has a recurrent \n",
    "## value of 4. (In fact, the average word length is really 3 not 4, since the num_chars variable counts space \n",
    "## characters.) By contrast average sentence length and lexical diversity appear to be characteristics of \n",
    "## particular authors.\n",
    "print(\"\\n:average word length, average sentence length, lexical diversity, fileid\")\n",
    "for fileid in gb.fileids():\n",
    "     num_chars = len(gb.raw(fileid))\n",
    "     num_words = len(gb.words(fileid))\n",
    "     num_sents = len(gb.sents(fileid))\n",
    "     num_vocab = len(set(w.lower() for w in gb.words(fileid)))\n",
    "     print(round(num_chars/num_words), round(num_words/num_sents), round(num_words/num_vocab), fileid)\n"
   ]
  },
  {
   "cell_type": "code",
   "execution_count": 44,
   "metadata": {
    "collapsed": false
   },
   "outputs": [
    {
     "name": "stdout",
     "output_type": "stream",
     "text": [
      "\n",
      "macbeth_sentences:\n",
      "[['[', 'The', 'Tragedie', 'of', 'Macbeth', 'by', 'William', 'Shakespeare', '1603', ']'], ['Actus', 'Primus', '.'], ...]\n",
      "\n",
      "macbeth_sentences[1116]:\n",
      "['Double', ',', 'double', ',', 'toile', 'and', 'trouble', ';', 'Fire', 'burne', ',', 'and', 'Cauldron', 'bubble']\n",
      "\n",
      "[['Doubtfull', 'it', 'stood', ',', 'As', 'two', 'spent', 'Swimmers', ',', 'that', 'doe', 'cling', 'together', ',', 'And', 'choake', 'their', 'Art', ':', 'The', 'mercilesse', 'Macdonwald', '(', 'Worthie', 'to', 'be', 'a', 'Rebell', ',', 'for', 'to', 'that', 'The', 'multiplying', 'Villanies', 'of', 'Nature', 'Doe', 'swarme', 'vpon', 'him', ')', 'from', 'the', 'Westerne', 'Isles', 'Of', 'Kernes', 'and', 'Gallowgrosses', 'is', 'supply', \"'\", 'd', ',', 'And', 'Fortune', 'on', 'his', 'damned', 'Quarry', 'smiling', ',', 'Shew', \"'\", 'd', 'like', 'a', 'Rebells', 'Whore', ':', 'but', 'all', \"'\", 's', 'too', 'weake', ':', 'For', 'braue', 'Macbeth', '(', 'well', 'hee', 'deserues', 'that', 'Name', ')', 'Disdayning', 'Fortune', ',', 'with', 'his', 'brandisht', 'Steele', ',', 'Which', 'smoak', \"'\", 'd', 'with', 'bloody', 'execution', '(', 'Like', 'Valours', 'Minion', ')', 'caru', \"'\", 'd', 'out', 'his', 'passage', ',', 'Till', 'hee', 'fac', \"'\", 'd', 'the', 'Slaue', ':', 'Which', 'neu', \"'\", 'r', 'shooke', 'hands', ',', 'nor', 'bad', 'farwell', 'to', 'him', ',', 'Till', 'he', 'vnseam', \"'\", 'd', 'him', 'from', 'the', 'Naue', 'toth', \"'\", 'Chops', ',', 'And', 'fix', \"'\", 'd', 'his', 'Head', 'vpon', 'our', 'Battlements']]\n"
     ]
    }
   ],
   "source": [
    "## The sents() function divides the text up into its sentences, where each sentence is a list of words\n",
    "macbeth_sentences=gb.sents(\"shakespeare-macbeth.txt\")\n",
    "print(\"\\nmacbeth_sentences:\\n{0}\\n\".format(macbeth_sentences))\n",
    "print(\"macbeth_sentences[1116]:\\n{0}\\n\".format(macbeth_sentences[1116]))\n",
    "longest_len=max(len(s) for s in macbeth_sentences)\n",
    "print([s for s in macbeth_sentences if len(s) == longest_len])"
   ]
  },
  {
   "cell_type": "markdown",
   "metadata": {
    "collapsed": true
   },
   "source": [
    "### Web and Chat Text"
   ]
  },
  {
   "cell_type": "code",
   "execution_count": 45,
   "metadata": {
    "collapsed": false
   },
   "outputs": [
    {
     "name": "stdout",
     "output_type": "stream",
     "text": [
      "firefox.txt Cookie Manager: \"Don't allow sites that set removed cookies to se ...\n",
      "grail.txt SCENE 1: [wind] [clop clop clop] \n",
      "KING ARTHUR: Whoa there!  [clop ...\n",
      "overheard.txt White guy: So, do you have any plans for this evening?\n",
      "Asian girl ...\n",
      "pirates.txt PIRATES OF THE CARRIBEAN: DEAD MAN'S CHEST, by Ted Elliott & Terr ...\n",
      "singles.txt 25 SEXY MALE, seeks attrac older single lady, for discreet encoun ...\n",
      "wine.txt Lovely delicate, fragrant Rhone wine. Polished leather and strawb ...\n"
     ]
    }
   ],
   "source": [
    "from nltk.corpus import webtext\n",
    "\n",
    "for fileid in webtext.fileids():\n",
    "    print(fileid, webtext.raw(fileid)[:65],'...')"
   ]
  },
  {
   "cell_type": "code",
   "execution_count": 46,
   "metadata": {
    "collapsed": false
   },
   "outputs": [
    {
     "name": "stdout",
     "output_type": "stream",
     "text": [
      "type: <class 'nltk.corpus.reader.xmldocs.XMLCorpusView'>\n",
      "chatroom[123]: ['i', 'do', \"n't\", 'want', 'hot', 'pics', 'of', 'a', 'female', ',', 'I', 'can', 'look', 'in', 'a', 'mirror', '.']\n"
     ]
    }
   ],
   "source": [
    "## This chat corpus was collected by Naval \n",
    "## Postgraducate School for research on automatic\n",
    "## detection of internet predators.\n",
    "## Chats have been anonymized (\"userNNN\"), organized\n",
    "## into 15 files containing age-specific chatrooom\n",
    "## posts.\n",
    "## '10-19-20s_706posts.xml' means 706 chats from \n",
    "## 10-19-2006, 20s chat room\n",
    "from nltk.corpus import nps_chat\n",
    "chatroom=nps_chat.posts(\"10-19-20s_706posts.xml\")\n",
    "print(\"type: {}\".format(type(chatroom)))\n",
    "print(\"chatroom[123]: {}\".format(chatroom[123]))"
   ]
  },
  {
   "cell_type": "markdown",
   "metadata": {},
   "source": [
    "### Brown Corpus ###\n",
    "\n",
    "A million-word electronic corpus of English, created in 1961 at Brown University. This corpus contains text from 500 sources, and the sources have been categorized by genre.\n",
    "\n",
    "**Table 2.1:\n",
    "Example Document for Each Section of the Brown Corpus**\n",
    "\n",
    "|ID|\tFile|\tGenre|\tDescription|\n",
    "|--|--------|--------|-------------|\n",
    "|A16\t|ca16\t|news\t|Chicago Tribune: Society Reportage\n",
    "|B02\t|cb02\t|editorial\t|Christian Science Monitor: Editorials\n",
    "|C17\t|cc17\t|reviews\t|Time Magazine: Reviews\n",
    "|D12\t|cd12\t|religion\t|Underwood: Probing the Ethics of Realtors\n",
    "|E36\t|ce36\t|hobbies\t|Norling: Renting a Car in Europe\n",
    "|F25\t|cf25\t|lore\t|Boroff: Jewish Teenage Culture\n",
    "|G22\t|cg22\t|belles_lettres\t|Reiner: Coping with Runaway Technology\n",
    "|H15\t|ch15\t|government\t|US Office of Civil and Defence Mobilization: The Family Fallout Shelter\n",
    "|J17\t|cj19\t|learned\t|Mosteller: Probability with Statistical Applications\n",
    "|K04\t|ck04\t|fiction\t|W.E.B. Du Bois: Worlds of Color\n",
    "|L13\t|cl13\t|mystery\t|Hitchens: Footsteps in the Night\n",
    "|M01\t|cm01\t|science_fiction\t|Heinlein: Stranger in a Strange Land\n",
    "|N14\t|cn15\t|adventure\t|Field: Rattlesnake Ridge\n",
    "|P12\t|cp12\t|romance\t|Callaghan: A Passion in Rome\n",
    "|R06\t|cr06\t|humor\t|Thurber: The Future, If Any, of Comedy"
   ]
  },
  {
   "cell_type": "code",
   "execution_count": 47,
   "metadata": {
    "collapsed": false
   },
   "outputs": [
    {
     "name": "stdout",
     "output_type": "stream",
     "text": [
      "brown categories: ['adventure', 'belles_lettres', 'editorial', 'fiction', 'government', 'hobbies', 'humor', 'learned', 'lore', 'mystery', 'news', 'religion', 'reviews', 'romance', 'science_fiction']\n",
      "\n",
      "brown words,categories:['The', 'Fulton', 'County', 'Grand', 'Jury', 'said', ...]\n",
      "\n",
      "brown words,fileids:['Does', 'our', 'society', 'have', 'a', 'runaway', ',', ...]\n",
      "\n",
      "brown sentences:[['The', 'Fulton', 'County', 'Grand', 'Jury', 'said', 'Friday', 'an', 'investigation', 'of', \"Atlanta's\", 'recent', 'primary', 'election', 'produced', '``', 'no', 'evidence', \"''\", 'that', 'any', 'irregularities', 'took', 'place', '.'], ['The', 'jury', 'further', 'said', 'in', 'term-end', 'presentments', 'that', 'the', 'City', 'Executive', 'Committee', ',', 'which', 'had', 'over-all', 'charge', 'of', 'the', 'election', ',', '``', 'deserves', 'the', 'praise', 'and', 'thanks', 'of', 'the', 'City', 'of', 'Atlanta', \"''\", 'for', 'the', 'manner', 'in', 'which', 'the', 'election', 'was', 'conducted', '.'], ...]\n"
     ]
    }
   ],
   "source": [
    "from nltk.corpus import brown\n",
    "\n",
    "# categories\n",
    "b_cat=brown.categories()\n",
    "print(\"brown categories: {}\".format(b_cat))\n",
    "\n",
    "# words in a category\n",
    "b_wrds_cat=brown.words(categories=\"news\")\n",
    "print(\"\\nbrown words,categories:{}\".format(b_wrds_cat))\n",
    "\n",
    "b_wrds_fi=brown.words(fileids=[\"cg22\"])\n",
    "print(\"\\nbrown words,fileids:{}\".format(b_wrds_fi))\n",
    "\n",
    "# sentences in categories\n",
    "b_snts=brown.sents(categories=[\"news\",\"editorial\",\"reviews\"])\n",
    "print(\"\\nbrown sentences:{}\".format(b_snts))"
   ]
  },
  {
   "cell_type": "code",
   "execution_count": 48,
   "metadata": {
    "collapsed": false
   },
   "outputs": [
    {
     "name": "stdout",
     "output_type": "stream",
     "text": [
      "can:94\n",
      "could:87\n",
      "may:93\n",
      "might:38\n",
      "must:53\n",
      "will:389\n"
     ]
    }
   ],
   "source": [
    "## Stylistics: study systematic differences between\n",
    "## genres.\n",
    "## model verbs: an auxiliary verb that expresses \n",
    "## necessity or possibility, such as 'can','could'\n",
    "from nltk.corpus import brown\n",
    "news_text=brown.words(categories=\"news\")\n",
    "fdist=nltk.FreqDist([w.lower() for w in news_text])\n",
    "modals=[\"can\",\"could\",\"may\",\"might\",\"must\",\"will\"]\n",
    "for m in modals:\n",
    "    print(\"{}:{}\".format(m,fdist[m]))"
   ]
  },
  {
   "cell_type": "code",
   "execution_count": 49,
   "metadata": {
    "collapsed": false
   },
   "outputs": [
    {
     "name": "stdout",
     "output_type": "stream",
     "text": [
      "                  can could   may might  must  will \n",
      "           news    93    86    66    38    50   389 \n",
      "       religion    82    59    78    12    54    71 \n",
      "        hobbies   268    58   131    22    83   264 \n",
      "science_fiction    16    49     4    12     8    16 \n",
      "        romance    74   193    11    51    45    43 \n",
      "          humor    16    30     8     8     9    13 \n"
     ]
    }
   ],
   "source": [
    "## Obtain modal verb count for each genre of interest\n",
    "cfd=nltk.ConditionalFreqDist(\n",
    "            (genre,word)\n",
    "            for genre in brown.categories()\n",
    "            for word in brown.words(categories=genre))\n",
    "genres=[\"news\",\"religion\",\"hobbies\",\"science_fiction\",\"romance\",\"humor\"]\n",
    "cfd.tabulate(conditions=genres,samples=modals)\n",
    "\n",
    "## Observe that the most frequent modal in the news \n",
    "## genre is will, while the most frequent modal in \n",
    "## the romance genre is could. \n",
    "## Would you have predicted this? \n",
    "## The idea is that word counts might distinguish \n",
    "## between genres "
   ]
  },
  {
   "cell_type": "markdown",
   "metadata": {},
   "source": [
    "### Reuters Corpus ###\n",
    "The documents have been classified into 90 topics, and grouped into two sets, called \"training\" and \"test\"; thus, the text with fileid 'test/14826' is a document drawn from the test set."
   ]
  },
  {
   "cell_type": "code",
   "execution_count": 50,
   "metadata": {
    "collapsed": false
   },
   "outputs": [
    {
     "name": "stdout",
     "output_type": "stream",
     "text": [
      "reuters fileids:['test/14828', 'test/14829', 'test/14832', 'test/14833', 'test/14839', 'test/14840', 'test/14841', 'test/14842', 'test/14843']\n",
      "reuters categores:['acq', 'alum', 'barley', 'bop', 'carcass', 'castor-oil', 'cocoa', 'coconut', 'coconut-oil', 'coffee', 'copper', 'copra-cake', 'corn', 'cotton', 'cotton-oil', 'cpi', 'cpu', 'crude', 'dfl', 'dlr', 'dmk', 'earn', 'fuel', 'gas', 'gnp', 'gold', 'grain', 'groundnut', 'groundnut-oil', 'heat', 'hog', 'housing', 'income', 'instal-debt', 'interest', 'ipi', 'iron-steel', 'jet', 'jobs', 'l-cattle', 'lead', 'lei', 'lin-oil', 'livestock', 'lumber', 'meal-feed', 'money-fx', 'money-supply', 'naphtha', 'nat-gas', 'nickel', 'nkr', 'nzdlr', 'oat', 'oilseed', 'orange', 'palladium', 'palm-oil', 'palmkernel', 'pet-chem', 'platinum', 'potato', 'propane', 'rand', 'rape-oil', 'rapeseed', 'reserves', 'retail', 'rice', 'rubber', 'rye', 'ship', 'silver', 'sorghum', 'soy-meal', 'soy-oil', 'soybean', 'strategic-metal', 'sugar', 'sun-meal', 'sun-oil', 'sunseed', 'tea', 'tin', 'trade', 'veg-oil', 'wheat', 'wpi', 'yen', 'zinc']\n"
     ]
    }
   ],
   "source": [
    "from nltk.corpus import reuters\n",
    "print(\"reuters fileids:{}\".format(reuters.fileids()[1:10]))\n",
    "print(\"reuters categores:{}\".format(reuters.categories()))"
   ]
  },
  {
   "cell_type": "markdown",
   "metadata": {},
   "source": [
    "Unlike the Brown Corpus, categories in the Reuters corpus overlap with each other, simply because a news story often covers multiple topics."
   ]
  },
  {
   "cell_type": "code",
   "execution_count": 51,
   "metadata": {
    "collapsed": false
   },
   "outputs": [
    {
     "name": "stdout",
     "output_type": "stream",
     "text": [
      "['barley', 'corn', 'grain', 'wheat']\n",
      "['money-fx']\n",
      "['barley', 'corn', 'grain', 'money-fx', 'wheat']\n",
      "\n",
      "['test/15618', 'test/15649', 'test/15676', 'test/15728', 'test/15871', 'test/15875', 'test/15952', 'test/17767', 'test/17769', 'test/18024', 'test/18263', 'test/18908', 'test/19275', 'test/19668', 'training/10175', 'training/1067', 'training/11208', 'training/11316', 'training/11885', 'training/12428', 'training/13099', 'training/13744', 'training/13795', 'training/13852', 'training/13856', 'training/1652', 'training/1970', 'training/2044', 'training/2171', 'training/2172', 'training/2191', 'training/2217', 'training/2232', 'training/3132', 'training/3324', 'training/395', 'training/4280', 'training/4296', 'training/5', 'training/501', 'training/5467', 'training/5610', 'training/5640', 'training/6626', 'training/7205', 'training/7579', 'training/8213', 'training/8257', 'training/8759', 'training/9865', 'training/9958']\n",
      "\n",
      "['test/14832', 'test/14858', 'test/15033', 'test/15043', 'test/15106', 'test/15287', 'test/15341', 'test/15618', 'test/15648', 'test/15649', 'test/15676', 'test/15686', 'test/15720', 'test/15728', 'test/15845', 'test/15856', 'test/15860', 'test/15863', 'test/15871', 'test/15875', 'test/15877', 'test/15890', 'test/15904', 'test/15906', 'test/15910', 'test/15911', 'test/15917', 'test/15952', 'test/15999', 'test/16012', 'test/16071', 'test/16099', 'test/16147', 'test/16525', 'test/16624', 'test/16751', 'test/16765', 'test/17503', 'test/17509', 'test/17722', 'test/17767', 'test/17769', 'test/18024', 'test/18035', 'test/18263', 'test/18482', 'test/18614', 'test/18908', 'test/18954', 'test/18973', 'test/19165', 'test/19275', 'test/19668', 'test/19721', 'test/19821', 'test/20018', 'test/20366', 'test/20637', 'test/20645', 'test/20649', 'test/20723', 'test/20763', 'test/21091', 'test/21243', 'test/21493', 'training/10120', 'training/10139', 'training/10172', 'training/10175', 'training/10319', 'training/10339', 'training/10487', 'training/10489', 'training/10519', 'training/1067', 'training/10701', 'training/10882', 'training/10956', 'training/11012', 'training/11085', 'training/11091', 'training/11208', 'training/11269', 'training/1131', 'training/11316', 'training/11392', 'training/11436', 'training/11607', 'training/11612', 'training/11729', 'training/11739', 'training/11769', 'training/11885', 'training/11936', 'training/11939', 'training/11964', 'training/12002', 'training/12052', 'training/12055', 'training/1215', 'training/12160', 'training/12311', 'training/12323', 'training/12372', 'training/12417', 'training/12428', 'training/12436', 'training/12500', 'training/12583', 'training/12587', 'training/1268', 'training/1273', 'training/12872', 'training/13099', 'training/13173', 'training/13179', 'training/1369', 'training/13744', 'training/13795', 'training/1385', 'training/13852', 'training/13856', 'training/1395', 'training/1399', 'training/14483', 'training/1582', 'training/1652', 'training/1777', 'training/1843', 'training/193', 'training/1952', 'training/197', 'training/1970', 'training/2044', 'training/2171', 'training/2172', 'training/2183', 'training/2191', 'training/2217', 'training/2232', 'training/2264', 'training/235', 'training/2382', 'training/2436', 'training/2456', 'training/2595', 'training/2599', 'training/2617', 'training/2727', 'training/2741', 'training/2749', 'training/2777', 'training/2848', 'training/2913', 'training/2922', 'training/2947', 'training/3132', 'training/3138', 'training/3191', 'training/327', 'training/3282', 'training/3299', 'training/3306', 'training/3324', 'training/3330', 'training/3337', 'training/3358', 'training/3401', 'training/3429', 'training/3847', 'training/3855', 'training/3881', 'training/3949', 'training/395', 'training/3979', 'training/3981', 'training/4047', 'training/4133', 'training/4280', 'training/4289', 'training/4296', 'training/4382', 'training/4490', 'training/4599', 'training/4825', 'training/4905', 'training/4939', 'training/4988', 'training/5', 'training/5003', 'training/501', 'training/5017', 'training/5033', 'training/5109', 'training/516', 'training/5185', 'training/5338', 'training/5467', 'training/5518', 'training/5531', 'training/5606', 'training/5610', 'training/5636', 'training/5637', 'training/5640', 'training/57', 'training/5847', 'training/5933', 'training/6', 'training/6142', 'training/6221', 'training/6236', 'training/6239', 'training/6259', 'training/6269', 'training/6386', 'training/6585', 'training/6588', 'training/6626', 'training/6735', 'training/6890', 'training/6897', 'training/694', 'training/7062', 'training/7205', 'training/7215', 'training/7336', 'training/7387', 'training/7389', 'training/7390', 'training/7395', 'training/7579', 'training/7700', 'training/7792', 'training/7917', 'training/7934', 'training/7943', 'training/8004', 'training/8140', 'training/8161', 'training/8166', 'training/8213', 'training/8257', 'training/8273', 'training/8400', 'training/8443', 'training/8446', 'training/8535', 'training/855', 'training/8759', 'training/8941', 'training/8983', 'training/8993', 'training/9058', 'training/9093', 'training/9094', 'training/934', 'training/9470', 'training/9521', 'training/9667', 'training/97', 'training/9865', 'training/9958', 'training/9989']\n"
     ]
    }
   ],
   "source": [
    "print(reuters.categories(\"training/9865\"))\n",
    "print(reuters.categories(\"training/9880\"))\n",
    "print(reuters.categories([\"training/9865\",\"training/9880\"]))\n",
    "print()\n",
    "print(reuters.fileids(\"barley\"))\n",
    "print()\n",
    "print(reuters.fileids([\"barley\",\"corn\"]))"
   ]
  },
  {
   "cell_type": "code",
   "execution_count": 52,
   "metadata": {
    "collapsed": false
   },
   "outputs": [
    {
     "name": "stdout",
     "output_type": "stream",
     "text": [
      "['FRENCH', 'FREE', 'MARKET', 'CEREAL', 'EXPORT', 'BIDS', 'DETAILED', 'French', 'operators', 'have', 'requested', 'licences', 'to', 'export']\n",
      "\n",
      "['FRENCH', 'FREE', 'MARKET', 'CEREAL', 'EXPORT', ...]\n",
      "\n",
      "['FRENCH', 'FREE', 'MARKET', 'CEREAL', 'EXPORT', ...]\n",
      "\n",
      "['THAI', 'TRADE', 'DEFICIT', 'WIDENS', 'IN', 'FIRST', ...]\n"
     ]
    }
   ],
   "source": [
    "print(reuters.words('training/9865')[:14])\n",
    "print()\n",
    "print(reuters.words(['training/9865', 'training/9880']))\n",
    "print()\n",
    "print(reuters.words(categories='barley'))\n",
    "print()\n",
    "print(reuters.words(categories=['barley', 'corn']))"
   ]
  },
  {
   "cell_type": "markdown",
   "metadata": {},
   "source": [
    "### Inaugural Address Corpus ###\n",
    "Collection of 55 texts of presidential addresses.\n",
    "Time dimension is one interesting property."
   ]
  },
  {
   "cell_type": "code",
   "execution_count": 53,
   "metadata": {
    "collapsed": false
   },
   "outputs": [
    {
     "name": "stdout",
     "output_type": "stream",
     "text": [
      "['1789-Washington.txt', '1793-Washington.txt', '1797-Adams.txt', '1801-Jefferson.txt', '1805-Jefferson.txt', '1809-Madison.txt', '1813-Madison.txt', '1817-Monroe.txt', '1821-Monroe.txt', '1825-Adams.txt', '1829-Jackson.txt', '1833-Jackson.txt', '1837-VanBuren.txt', '1841-Harrison.txt', '1845-Polk.txt', '1849-Taylor.txt', '1853-Pierce.txt', '1857-Buchanan.txt', '1861-Lincoln.txt', '1865-Lincoln.txt', '1869-Grant.txt', '1873-Grant.txt', '1877-Hayes.txt', '1881-Garfield.txt', '1885-Cleveland.txt', '1889-Harrison.txt', '1893-Cleveland.txt', '1897-McKinley.txt', '1901-McKinley.txt', '1905-Roosevelt.txt', '1909-Taft.txt', '1913-Wilson.txt', '1917-Wilson.txt', '1921-Harding.txt', '1925-Coolidge.txt', '1929-Hoover.txt', '1933-Roosevelt.txt', '1937-Roosevelt.txt', '1941-Roosevelt.txt', '1945-Roosevelt.txt', '1949-Truman.txt', '1953-Eisenhower.txt', '1957-Eisenhower.txt', '1961-Kennedy.txt', '1965-Johnson.txt', '1969-Nixon.txt', '1973-Nixon.txt', '1977-Carter.txt', '1981-Reagan.txt', '1985-Reagan.txt', '1989-Bush.txt', '1993-Clinton.txt', '1997-Clinton.txt', '2001-Bush.txt', '2005-Bush.txt', '2009-Obama.txt']\n",
      "\n",
      "['1789', '1793', '1797', '1801', '1805', '1809', '1813', '1817', '1821', '1825', '1829', '1833', '1837', '1841', '1845', '1849', '1853', '1857', '1861', '1865', '1869', '1873', '1877', '1881', '1885', '1889', '1893', '1897', '1901', '1905', '1909', '1913', '1917', '1921', '1925', '1929', '1933', '1937', '1941', '1945', '1949', '1953', '1957', '1961', '1965', '1969', '1973', '1977', '1981', '1985', '1989', '1993', '1997', '2001', '2005', '2009']\n"
     ]
    }
   ],
   "source": [
    "from nltk.corpus import inaugural\n",
    "print(inaugural.fileids())\n",
    "print()\n",
    "print([fileid[:4] for fileid in inaugural.fileids()])"
   ]
  },
  {
   "cell_type": "code",
   "execution_count": 54,
   "metadata": {
    "collapsed": false
   },
   "outputs": [
    {
     "data": {
      "image/png": "[encoded data removed]",
      "text/plain": [
       "<matplotlib.figure.Figure at 0x11042b470>"
      ]
     },
     "metadata": {},
     "output_type": "display_data"
    }
   ],
   "source": [
    "## How the words America and citizen are used over time\n",
    "cfd=nltk.ConditionalFreqDist(\n",
    "(target,fileid[:4])\n",
    "for fileid in inaugural.fileids()\n",
    "for w in inaugural.words(fileid)\n",
    "for target in [\"america\",\"citizen\"]\n",
    "if w.lower().startswith(target))\n",
    "cfd.plot()"
   ]
  },
  {
   "cell_type": "code",
   "execution_count": null,
   "metadata": {
    "collapsed": true
   },
   "outputs": [],
   "source": []
  }
 ],
 "metadata": {
  "kernelspec": {
   "display_name": "Python 3",
   "language": "python",
   "name": "python3"
  },
  "language_info": {
   "codemirror_mode": {
    "name": "ipython",
    "version": 3
   },
   "file_extension": ".py",
   "mimetype": "text/x-python",
   "name": "python",
   "nbconvert_exporter": "python",
   "pygments_lexer": "ipython3",
   "version": "3.5.2"
  }
 },
 "nbformat": 4,
 "nbformat_minor": 0
}
