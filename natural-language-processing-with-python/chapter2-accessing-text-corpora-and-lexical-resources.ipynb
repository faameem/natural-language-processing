{
 "cells": [
  {
   "cell_type": "markdown",
   "metadata": {},
   "source": [
    "# 2. Accessing Text Corpora and Lexical Resources #\n",
    "## 1 Accessing Text Corpora ##\n",
    "+  A text corpus is a large body of text\n",
    "\n",
    "### 1.1 Gutenberg Corpus ###\n",
    "+ [Project Gutenberg](http://www.gutenberg.org/) is an electronic text archive, which contains some 25,000 free electronic books."
   ]
  },
  {
   "cell_type": "code",
   "execution_count": 23,
   "metadata": {
    "collapsed": false
   },
   "outputs": [
    {
     "name": "stdout",
     "output_type": "stream",
     "text": [
      "gutenberg fileids\n",
      ":['austen-emma.txt', 'austen-persuasion.txt', 'austen-sense.txt', 'bible-kjv.txt', 'blake-poems.txt', 'bryant-stories.txt', 'burgess-busterbrown.txt', 'carroll-alice.txt', 'chesterton-ball.txt', 'chesterton-brown.txt', 'chesterton-thursday.txt', 'edgeworth-parents.txt', 'melville-moby_dick.txt', 'milton-paradise.txt', 'shakespeare-caesar.txt', 'shakespeare-hamlet.txt', 'shakespeare-macbeth.txt', 'whitman-leaves.txt']\n",
      "\n",
      "emma length:\n",
      "192427\n",
      "\n",
      "Displaying 1 of 1 matches:\n",
      " that Emma could not but feel some surprise , and a little displeasure , on he\n",
      "\n",
      ":average word length, average sentence length, lexical diversity, fileid\n",
      "5 25 26 austen-emma.txt\n",
      "5 26 17 austen-persuasion.txt\n",
      "5 28 22 austen-sense.txt\n",
      "4 34 79 bible-kjv.txt\n",
      "5 19 5 blake-poems.txt\n",
      "4 19 14 bryant-stories.txt\n",
      "4 18 12 burgess-busterbrown.txt\n",
      "4 20 13 carroll-alice.txt\n",
      "5 20 12 chesterton-ball.txt\n",
      "5 23 11 chesterton-brown.txt\n",
      "5 18 11 chesterton-thursday.txt\n",
      "4 21 25 edgeworth-parents.txt\n",
      "5 26 15 melville-moby_dick.txt\n",
      "5 52 11 milton-paradise.txt\n",
      "4 12 9 shakespeare-caesar.txt\n",
      "4 12 8 shakespeare-hamlet.txt\n",
      "4 12 7 shakespeare-macbeth.txt\n",
      "5 36 12 whitman-leaves.txt\n",
      "\n",
      "macbeth_sentences:\n",
      "[['[', 'The', 'Tragedie', 'of', 'Macbeth', 'by', 'William', 'Shakespeare', '1603', ']'], ['Actus', 'Primus', '.'], ...]\n",
      "\n",
      "macbeth_sentences[1116]:\n",
      "['Double', ',', 'double', ',', 'toile', 'and', 'trouble', ';', 'Fire', 'burne', ',', 'and', 'Cauldron', 'bubble']\n",
      "\n"
     ]
    }
   ],
   "source": [
    "import nltk\n",
    "from nltk.corpus import gutenberg as gb\n",
    "\n",
    "print(\"gutenberg fileids\\n:{0}\\n\".format(gb.fileids()))\n",
    "emma=gb.words(\"austen-emma.txt\")\n",
    "print(\"emma length:\\n{0}\\n\".format(len(emma)))\n",
    "\n",
    "## for concordance, we need to convert the words to Text contrary to chapter 1\n",
    "emma_text=nltk.Text(emma)\n",
    "emma_text.concordance(\"surprise\")\n",
    "\n",
    "## This program displays three statistics for each text: average word length, average sentence length, \n",
    "## and the number of times each vocabulary item appears in the text on average (our lexical diversity score). \n",
    "## Observe that average word length appears to be a general property of English, since it has a recurrent \n",
    "## value of 4. (In fact, the average word length is really 3 not 4, since the num_chars variable counts space \n",
    "## characters.) By contrast average sentence length and lexical diversity appear to be characteristics of \n",
    "## particular authors.\n",
    "print(\"\\n:average word length, average sentence length, lexical diversity, fileid\")\n",
    "for fileid in gb.fileids():\n",
    "     num_chars = len(gb.raw(fileid))\n",
    "     num_words = len(gb.words(fileid))\n",
    "     num_sents = len(gb.sents(fileid))\n",
    "     num_vocab = len(set(w.lower() for w in gb.words(fileid)))\n",
    "     print(round(num_chars/num_words), round(num_words/num_sents), round(num_words/num_vocab), fileid)\n"
   ]
  },
  {
   "cell_type": "code",
   "execution_count": 26,
   "metadata": {
    "collapsed": false
   },
   "outputs": [
    {
     "name": "stdout",
     "output_type": "stream",
     "text": [
      "\n",
      "macbeth_sentences:\n",
      "[['[', 'The', 'Tragedie', 'of', 'Macbeth', 'by', 'William', 'Shakespeare', '1603', ']'], ['Actus', 'Primus', '.'], ...]\n",
      "\n",
      "macbeth_sentences[1116]:\n",
      "['Double', ',', 'double', ',', 'toile', 'and', 'trouble', ';', 'Fire', 'burne', ',', 'and', 'Cauldron', 'bubble']\n",
      "\n",
      "[['Doubtfull', 'it', 'stood', ',', 'As', 'two', 'spent', 'Swimmers', ',', 'that', 'doe', 'cling', 'together', ',', 'And', 'choake', 'their', 'Art', ':', 'The', 'mercilesse', 'Macdonwald', '(', 'Worthie', 'to', 'be', 'a', 'Rebell', ',', 'for', 'to', 'that', 'The', 'multiplying', 'Villanies', 'of', 'Nature', 'Doe', 'swarme', 'vpon', 'him', ')', 'from', 'the', 'Westerne', 'Isles', 'Of', 'Kernes', 'and', 'Gallowgrosses', 'is', 'supply', \"'\", 'd', ',', 'And', 'Fortune', 'on', 'his', 'damned', 'Quarry', 'smiling', ',', 'Shew', \"'\", 'd', 'like', 'a', 'Rebells', 'Whore', ':', 'but', 'all', \"'\", 's', 'too', 'weake', ':', 'For', 'braue', 'Macbeth', '(', 'well', 'hee', 'deserues', 'that', 'Name', ')', 'Disdayning', 'Fortune', ',', 'with', 'his', 'brandisht', 'Steele', ',', 'Which', 'smoak', \"'\", 'd', 'with', 'bloody', 'execution', '(', 'Like', 'Valours', 'Minion', ')', 'caru', \"'\", 'd', 'out', 'his', 'passage', ',', 'Till', 'hee', 'fac', \"'\", 'd', 'the', 'Slaue', ':', 'Which', 'neu', \"'\", 'r', 'shooke', 'hands', ',', 'nor', 'bad', 'farwell', 'to', 'him', ',', 'Till', 'he', 'vnseam', \"'\", 'd', 'him', 'from', 'the', 'Naue', 'toth', \"'\", 'Chops', ',', 'And', 'fix', \"'\", 'd', 'his', 'Head', 'vpon', 'our', 'Battlements']]\n"
     ]
    }
   ],
   "source": [
    "## The sents() function divides the text up into its sentences, where each sentence is a list of words\n",
    "macbeth_sentences=gb.sents(\"shakespeare-macbeth.txt\")\n",
    "print(\"\\nmacbeth_sentences:\\n{0}\\n\".format(macbeth_sentences))\n",
    "print(\"macbeth_sentences[1116]:\\n{0}\\n\".format(macbeth_sentences[1116]))\n",
    "longest_len=max(len(s) for s in macbeth_sentences)\n",
    "print([s for s in macbeth_sentences if len(s) == longest_len])"
   ]
  },
  {
   "cell_type": "code",
   "execution_count": null,
   "metadata": {
    "collapsed": true
   },
   "outputs": [],
   "source": []
  }
 ],
 "metadata": {
  "kernelspec": {
   "display_name": "Python 3",
   "language": "python",
   "name": "python3"
  },
  "language_info": {
   "codemirror_mode": {
    "name": "ipython",
    "version": 3
   },
   "file_extension": ".py",
   "mimetype": "text/x-python",
   "name": "python",
   "nbconvert_exporter": "python",
   "pygments_lexer": "ipython3",
   "version": "3.5.2"
  }
 },
 "nbformat": 4,
 "nbformat_minor": 0
}
